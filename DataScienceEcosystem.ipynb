{
 "cells": [
  {
   "cell_type": "markdown",
   "id": "29a1b569-6ada-4f4f-9d43-0a9c8e30ec72",
   "metadata": {},
   "source": [
    "# Data Science Tools and Ecosystem "
   ]
  },
  {
   "cell_type": "markdown",
   "id": "69f5880c-47e3-42e8-b811-d985e5ea499a",
   "metadata": {},
   "source": [
    "## In this notebook, Data Science Tools and Ecosystem are summarized."
   ]
  },
  {
   "cell_type": "markdown",
   "id": "cf221422-4ebf-42e4-8d9b-34005db8d498",
   "metadata": {},
   "source": [
    "**Objectives:**\n",
    "* languages for Data Science \n",
    "* Common libraries used by Data Scientists\n",
    "* Data Science Tools"
   ]
  },
  {
   "cell_type": "markdown",
   "id": "f8d28318-e6ca-4cb3-aa21-c329a2038335",
   "metadata": {},
   "source": [
    "### Some of the popular languages that Data Science use are:\n",
    "1. Python \n",
    "2. R \n",
    "3. SQL\n",
    "4. NOSQL"
   ]
  },
  {
   "cell_type": "markdown",
   "id": "99cdc3f8-e261-48a5-a871-1257a5079b08",
   "metadata": {},
   "source": [
    "### Some of the commonly used libraries used by Data Scientists include:\n",
    "1. Numpy \n",
    "2. Pandas \n",
    "3. Matplotlib"
   ]
  },
  {
   "cell_type": "markdown",
   "id": "4229d269-bc3f-4576-9be1-0b96d3eef82f",
   "metadata": {},
   "source": [
    "|Data Science Tools|\n",
    "|---|\n",
    "|Jupyter Notebook|\n",
    "|RStudio| \n",
    "|Spyder|"
   ]
  },
  {
   "cell_type": "markdown",
   "id": "f547aa09-11d1-40e4-9ea0-5bbb3460e0d1",
   "metadata": {},
   "source": [
    "### Below are a few examples of evaluating arithmetic expression in Python."
   ]
  },
  {
   "cell_type": "code",
   "execution_count": 8,
   "id": "9fa68e66-c247-4a25-a140-3e0cac79070b",
   "metadata": {},
   "outputs": [
    {
     "data": {
      "text/plain": [
       "17"
      ]
     },
     "execution_count": 8,
     "metadata": {},
     "output_type": "execute_result"
    }
   ],
   "source": [
    "# This a simple arithmetic expression to multiply then add integers\n",
    "(3*4)+5"
   ]
  },
  {
   "cell_type": "code",
   "execution_count": 10,
   "id": "fca3d040-ce59-4f9e-9dd2-bdd621c608e0",
   "metadata": {},
   "outputs": [
    {
     "name": "stdout",
     "output_type": "stream",
     "text": [
      "3.3333333333333335\n"
     ]
    }
   ],
   "source": [
    "# This will convert 200 minutes to hours by diving by 60.\n",
    "min = 200\n",
    "hr = 60\n",
    "c = min/hr\n",
    "print(c) "
   ]
  },
  {
   "cell_type": "markdown",
   "id": "e0c97077-bbd6-4016-a2c6-b949cf7bd011",
   "metadata": {},
   "source": [
    "## Author \n",
    "Stephanie Smith "
   ]
  },
  {
   "cell_type": "code",
   "execution_count": null,
   "id": "646fab31-0382-4f78-8ba2-d579afe9e37c",
   "metadata": {},
   "outputs": [],
   "source": []
  }
 ],
 "metadata": {
  "kernelspec": {
   "display_name": "anaconda-2024.02-py310",
   "language": "python",
   "name": "conda-env-anaconda-2024.02-py310-py"
  },
  "language_info": {
   "codemirror_mode": {
    "name": "ipython",
    "version": 3
   },
   "file_extension": ".py",
   "mimetype": "text/x-python",
   "name": "python",
   "nbconvert_exporter": "python",
   "pygments_lexer": "ipython3",
   "version": "3.10.14"
  }
 },
 "nbformat": 4,
 "nbformat_minor": 5
}
